{
 "cells": [
  {
   "cell_type": "code",
   "execution_count": 77,
   "metadata": {},
   "outputs": [],
   "source": [
    "import numpy as np\n",
    "import pandas as pd\n",
    "from pandas import DataFrame\n",
    "import matplotlib.pyplot as plt\n"
   ]
  },
  {
   "cell_type": "code",
   "execution_count": 78,
   "metadata": {},
   "outputs": [],
   "source": [
    "data=pd.read_csv(\"student_scores.csv\")\n",
    "x=data.Hours\n",
    "y=data.Scores"
   ]
  },
  {
   "cell_type": "code",
   "execution_count": 79,
   "metadata": {},
   "outputs": [],
   "source": [
    "def coef(x,y):\n",
    "    n=len(x)\n",
    "    \n",
    "    mx=np.mean(x)\n",
    "    my=np.mean(y)\n",
    "    \n",
    "    ssxy=np.sum(y*x)-n*mx*my\n",
    "    ssxx=np.sum(x*x)-n*mx*mx\n",
    "    \n",
    "    b0=ssxy/ssxx\n",
    "    b1=my-b0*mx\n",
    "    return(b0,b1)\n"
   ]
  },
  {
   "cell_type": "code",
   "execution_count": 80,
   "metadata": {},
   "outputs": [],
   "source": [
    "def squared_error(y,y_pred):\n",
    "    return sum((y_pred - y) * (y_pred - y))"
   ]
  },
  {
   "cell_type": "code",
   "execution_count": 81,
   "metadata": {},
   "outputs": [],
   "source": [
    "def coefficient_of_determination(y,y_pred):\n",
    "    y_mean_line = [np.mean(y) for y in y]\n",
    "    squared_error_regr = squared_error(y, y_pred)\n",
    "    squared_error_y_mean = squared_error(y, y_mean_line)\n",
    "    if(squared_error_y_mean==0):\n",
    "        squared_error_y_mean=1\n",
    "    return 1 - (squared_error_regr/squared_error_y_mean)"
   ]
  },
  {
   "cell_type": "code",
   "execution_count": 82,
   "metadata": {},
   "outputs": [],
   "source": [
    "def cal(x,y,b):\n",
    "    y_pred=b[0]+b[1]*x\n",
    "    print(y_pred)\n",
    "    print(y)\n",
    "    plt.scatter(y,y_pred)\n",
    "    plt.show()\n",
    "    rsquare=coefficient_of_determination(y,y_pred)\n",
    "    print(rsquare)\n",
    "    "
   ]
  },
  {
   "cell_type": "code",
   "execution_count": 83,
   "metadata": {},
   "outputs": [
    {
     "name": "stdout",
     "output_type": "stream",
     "text": [
      "9.775803390787472\n",
      "2.483673405373196\n",
      "0     15.984987\n",
      "1     22.442538\n",
      "2     17.723558\n",
      "3     30.887027\n",
      "4     18.468660\n",
      "5     13.501313\n",
      "6     32.625599\n",
      "7     23.436007\n",
      "8     30.390293\n",
      "9     16.481722\n",
      "10    28.900089\n",
      "11    24.429476\n",
      "12    20.952334\n",
      "13    17.971926\n",
      "14    12.507844\n",
      "15    31.880497\n",
      "16    15.984987\n",
      "17    14.494783\n",
      "18    24.926211\n",
      "19    28.154987\n",
      "20    16.481722\n",
      "21    21.697436\n",
      "22    19.213762\n",
      "23    26.913150\n",
      "24    29.148456\n",
      "Name: Hours, dtype: float64\n",
      "0     21\n",
      "1     47\n",
      "2     27\n",
      "3     75\n",
      "4     30\n",
      "5     20\n",
      "6     88\n",
      "7     60\n",
      "8     81\n",
      "9     25\n",
      "10    85\n",
      "11    62\n",
      "12    41\n",
      "13    42\n",
      "14    17\n",
      "15    95\n",
      "16    30\n",
      "17    24\n",
      "18    67\n",
      "19    69\n",
      "20    30\n",
      "21    54\n",
      "22    35\n",
      "23    76\n",
      "24    86\n",
      "Name: Scores, dtype: int64\n"
     ]
    },
    {
     "data": {
      "image/png": "[encoded data removed]",
      "text/plain": [
       "<Figure size 432x288 with 1 Axes>"
      ]
     },
     "metadata": {
      "needs_background": "light"
     },
     "output_type": "display_data"
    },
    {
     "name": "stdout",
     "output_type": "stream",
     "text": [
      "-30256.147228331327\n",
      "None\n"
     ]
    }
   ],
   "source": [
    "b=coef(x,y)\n",
    "print(b[0])\n",
    "print(b[1])\n",
    "a=cal(x,y,b)\n",
    "print(a)"
   ]
  },
  {
   "cell_type": "code",
   "execution_count": 49,
   "metadata": {},
   "outputs": [
    {
     "ename": "NameError",
     "evalue": "name 'y_pred' is not defined",
     "output_type": "error",
     "traceback": [
      "\u001b[0;31m---------------------------------------------------------------------------\u001b[0m",
      "\u001b[0;31mNameError\u001b[0m                                 Traceback (most recent call last)",
      "\u001b[0;32m<ipython-input-49-c7680726d15a>\u001b[0m in \u001b[0;36m<module>\u001b[0;34m\u001b[0m\n\u001b[0;32m----> 1\u001b[0;31m \u001b[0mcnf_matrix\u001b[0m \u001b[0;34m=\u001b[0m\u001b[0mconfusion_matrix\u001b[0m\u001b[0;34m(\u001b[0m\u001b[0my_test\u001b[0m\u001b[0;34m,\u001b[0m \u001b[0my_pred\u001b[0m\u001b[0;34m)\u001b[0m\u001b[0;34m\u001b[0m\u001b[0;34m\u001b[0m\u001b[0m\n\u001b[0m\u001b[1;32m      2\u001b[0m \u001b[0mprint\u001b[0m\u001b[0;34m(\u001b[0m\u001b[0mcnf_matrix\u001b[0m\u001b[0;34m)\u001b[0m\u001b[0;34m\u001b[0m\u001b[0;34m\u001b[0m\u001b[0m\n",
      "\u001b[0;31mNameError\u001b[0m: name 'y_pred' is not defined"
     ]
    }
   ],
   "source": []
  },
  {
   "cell_type": "code",
   "execution_count": null,
   "metadata": {},
   "outputs": [],
   "source": []
  }
 ],
 "metadata": {
  "kernelspec": {
   "display_name": "Python 3",
   "language": "python",
   "name": "python3"
  },
  "language_info": {
   "codemirror_mode": {
    "name": "ipython",
    "version": 3
   },
   "file_extension": ".py",
   "mimetype": "text/x-python",
   "name": "python",
   "nbconvert_exporter": "python",
   "pygments_lexer": "ipython3",
   "version": "3.7.3"
  }
 },
 "nbformat": 4,
 "nbformat_minor": 2
}
